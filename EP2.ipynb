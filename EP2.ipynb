{
 "cells": [
  {
   "cell_type": "code",
   "execution_count": 2,
   "metadata": {},
   "outputs": [
    {
     "name": "stdout",
     "output_type": "stream",
     "text": [
      "Requirement already satisfied: Pillow in c:\\users\\alexandre\\appdata\\local\\programs\\python\\python37-32\\lib\\site-packages (6.0.0)\n",
      "Note: you may need to restart the kernel to use updated packages.\n"
     ]
    },
    {
     "name": "stderr",
     "output_type": "stream",
     "text": [
      "WARNING: You are using pip version 20.1.1; however, version 20.2.4 is available.\n",
      "You should consider upgrading via the 'c:\\users\\alexandre\\appdata\\local\\programs\\python\\python37-32\\python.exe -m pip install --upgrade pip' command.\n"
     ]
    }
   ],
   "source": [
    "pip install Pillow"
   ]
  },
  {
   "cell_type": "code",
   "execution_count": 23,
   "metadata": {},
   "outputs": [],
   "source": [
    "from PIL import Image\n",
    "import math"
   ]
  },
  {
   "cell_type": "code",
   "execution_count": 24,
   "metadata": {},
   "outputs": [],
   "source": [
    "def RGB2gray(image):\n",
    "    width, height = image.size\n",
    "    \n",
    "    new = create_image(width, height)\n",
    "    newPixels = new.load()\n",
    "    \n",
    "    for i in range(width):\n",
    "        for j in range(height):\n",
    "            pixel = image.getpixel((i,j))\n",
    "            \n",
    "            gray = pixel[0]*0.299 + pixel[1]*0.587 + pixel[2]*0.114\n",
    "            \n",
    "            newPixels[i][j] = (int(gray), int(gray), int(gray))\n",
    "    \n",
    "    return new"
   ]
  },
  {
   "cell_type": "code",
   "execution_count": 25,
   "metadata": {},
   "outputs": [],
   "source": [
    "def dist(i,j,zerox,zeroy):\n",
    "    return math.sqrt((zerox - i)**2 + (zeroy-j)**2)"
   ]
  },
  {
   "cell_type": "code",
   "execution_count": 39,
   "metadata": {},
   "outputs": [],
   "source": [
    "def gera_gradiente(width, height):\n",
    "    #width, height = (245,250)\n",
    "    midw = width/2\n",
    "    midh = height/2\n",
    "    maxDist = dist(0,0,midw,midh)\n",
    "    \n",
    "    new = Image.new('RGB',(width, height))\n",
    "    newPixels = new.load()\n",
    "    \n",
    "    for i in range(width):\n",
    "        for j in range(height):\n",
    "            #pixel = image.getpixel((i,j))\n",
    "            tuple_pixel = (int(255*(1-(dist(i,j,midw,midh))/maxDist))\n",
    "                           ,int(255*(1-(dist(i,j,midw,midh))/maxDist)),\n",
    "                           int(255*(1-(dist(i,j,midw,midh))/maxDist)))\n",
    "            newPixels[i,j] = tuple_pixel\n",
    "    return new"
   ]
  },
  {
   "cell_type": "code",
   "execution_count": 41,
   "metadata": {},
   "outputs": [
    {
     "data": {
      "image/png": "[encoded data removed]",
      "text/plain": [
       "<PIL.Image.Image image mode=RGB size=300x240 at 0x14A87739CC8>"
      ]
     },
     "execution_count": 41,
     "metadata": {},
     "output_type": "execute_result"
    }
   ],
   "source": [
    "gradiente(300,240)"
   ]
  },
  {
   "cell_type": "code",
   "execution_count": null,
   "metadata": {},
   "outputs": [],
   "source": []
  },
  {
   "cell_type": "code",
   "execution_count": null,
   "metadata": {},
   "outputs": [],
   "source": []
  },
  {
   "cell_type": "code",
   "execution_count": null,
   "metadata": {},
   "outputs": [],
   "source": []
  }
 ],
 "metadata": {
  "kernelspec": {
   "display_name": "Python 3",
   "language": "python",
   "name": "python3"
  },
  "language_info": {
   "codemirror_mode": {
    "name": "ipython",
    "version": 3
   },
   "file_extension": ".py",
   "mimetype": "text/x-python",
   "name": "python",
   "nbconvert_exporter": "python",
   "pygments_lexer": "ipython3",
   "version": "3.7.5"
  }
 },
 "nbformat": 4,
 "nbformat_minor": 2
}
