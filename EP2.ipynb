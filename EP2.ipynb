{
 "cells": [
  {
   "cell_type": "code",
   "execution_count": 2,
   "metadata": {},
   "outputs": [
    {
     "name": "stdout",
     "output_type": "stream",
     "text": [
      "Requirement already satisfied: Pillow in c:\\users\\alexandre\\appdata\\local\\programs\\python\\python37-32\\lib\\site-packages (6.0.0)\n",
      "Note: you may need to restart the kernel to use updated packages.\n"
     ]
    },
    {
     "name": "stderr",
     "output_type": "stream",
     "text": [
      "WARNING: You are using pip version 20.1.1; however, version 20.2.4 is available.\n",
      "You should consider upgrading via the 'c:\\users\\alexandre\\appdata\\local\\programs\\python\\python37-32\\python.exe -m pip install --upgrade pip' command.\n"
     ]
    }
   ],
   "source": [
    "pip install Pillow"
   ]
  },
  {
   "cell_type": "code",
   "execution_count": 4,
   "metadata": {},
   "outputs": [],
   "source": [
    "import PIL"
   ]
  },
  {
   "cell_type": "code",
   "execution_count": 5,
   "metadata": {},
   "outputs": [],
   "source": [
    "def RGB2gray(image):\n",
    "    width, height = image.size\n",
    "    \n",
    "    new = create_image(width, height)\n",
    "    newPixels = new.load()\n",
    "    \n",
    "    for i in range(width):\n",
    "        for j in range(height):\n",
    "            pixel = image.getpixel((i,j))\n",
    "            \n",
    "            gray = pixel[0]*0.299 + pixel[1]*0.587 + pixel[2]*0.114\n",
    "            \n",
    "            newPixels[i][j] = (int(gray), int(gray), int(gray))\n",
    "    \n",
    "    return new"
   ]
  },
  {
   "cell_type": "code",
   "execution_count": 7,
   "metadata": {},
   "outputs": [],
   "source": [
    "def dist(i,j,zerox,zeroy):\n",
    "    return sqrt((zerox - i)^2 + (zeroy-j)^2)"
   ]
  },
  {
   "cell_type": "code",
   "execution_count": 6,
   "metadata": {},
   "outputs": [],
   "source": [
    "def gradiente(image):\n",
    "    width, height = image.size\n",
    "    midw = width/2\n",
    "    midh = height/2\n",
    "    maxDist = dist(0,0,midw,midh)\n",
    "    \n",
    "    new = create_image(width, height)\n",
    "    newPixels = new.load()\n",
    "    \n",
    "    for i in range(width):\n",
    "        for j in range(height):\n",
    "            pixel = image.getpixel((i,j))\n",
    "            \n",
    "            newPixels[i][j] = 255*(1-(dist(i,j,midw,midh))/maxDist)"
   ]
  },
  {
   "cell_type": "code",
   "execution_count": null,
   "metadata": {},
   "outputs": [],
   "source": []
  }
 ],
 "metadata": {
  "kernelspec": {
   "display_name": "Python 3",
   "language": "python",
   "name": "python3"
  },
  "language_info": {
   "codemirror_mode": {
    "name": "ipython",
    "version": 3
   },
   "file_extension": ".py",
   "mimetype": "text/x-python",
   "name": "python",
   "nbconvert_exporter": "python",
   "pygments_lexer": "ipython3",
   "version": "3.7.2"
  }
 },
 "nbformat": 4,
 "nbformat_minor": 2
}
